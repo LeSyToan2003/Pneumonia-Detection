{
 "cells": [
  {
   "cell_type": "code",
   "execution_count": null,
   "id": "d9a2506f",
   "metadata": {
    "vscode": {
     "languageId": "plaintext"
    }
   },
   "outputs": [],
   "source": [
    "import os\n",
    "\n",
    "import random\n",
    "import cv2\n",
    "import numpy as np\n",
    "import pandas as pd\n",
    "import keras\n",
    "import tensorflow as tf\n",
    "\n",
    "import matplotlib.pyplot as plt\n",
    "from tqdm import tqdm\n",
    "\n",
    "from keras.applications import VGG16\n",
    "from keras.models import Model\n",
    "from keras.layers import GlobalAveragePooling2D, GlobalMaxPooling2D, Concatenate"
   ]
  },
  {
   "cell_type": "code",
   "execution_count": null,
   "id": "9ab87ffc",
   "metadata": {
    "vscode": {
     "languageId": "plaintext"
    }
   },
   "outputs": [],
   "source": [
    "img_size = 128"
   ]
  },
  {
   "cell_type": "code",
   "execution_count": null,
   "id": "46efdd5c",
   "metadata": {
    "vscode": {
     "languageId": "plaintext"
    }
   },
   "outputs": [],
   "source": [
    "x_train_cxr = np.load('/kaggle/input/pneumonia-detection-datasets/chest-xray/train/images.npy')\n",
    "x_train_ch0 = np.load('/kaggle/input/pneumonia-detection-datasets/segment/train/images.npy')\n",
    "x_train_ch1 = np.load('/kaggle/input/pneumonia-detection-datasets/segment_with_convexhull/train/images.npy')\n",
    "y_train = np.load('/kaggle/input/pneumonia-detection-datasets/chest-xray/train/labels.npy')\n",
    "\n",
    "x_test_cxr = np.load('/kaggle/input/pneumonia-detection-datasets/chest-xray/test/images.npy')\n",
    "x_test_ch0 = np.load('/kaggle/input/pneumonia-detection-datasets/segment/test/images.npy')\n",
    "x_test_ch1 = np.load('/kaggle/input/pneumonia-detection-datasets/segment_with_convexhull/test/images.npy')\n",
    "y_test = np.load('/kaggle/input/pneumonia-detection-datasets/chest-xray/test/labels.npy')\n",
    "\n",
    "print(np.shape(x_train_cxr))\n",
    "print(np.shape(x_train_ch0))\n",
    "print(np.shape(x_train_ch1))\n",
    "print(np.shape(y_train))\n",
    "print(np.shape(x_test_cxr))\n",
    "print(np.shape(x_test_ch0))\n",
    "print(np.shape(x_test_ch1))\n",
    "print(np.shape(y_test))"
   ]
  },
  {
   "cell_type": "code",
   "execution_count": null,
   "id": "8d40f799",
   "metadata": {
    "vscode": {
     "languageId": "plaintext"
    }
   },
   "outputs": [],
   "source": [
    "plt.imshow(x_train_cxr[0], cmap='gray')\n",
    "plt.show()\n",
    "plt.imshow(x_test_cxr[0], cmap='gray')\n",
    "plt.show()\n",
    "\n",
    "plt.imshow(x_train_ch0[0], cmap='gray')\n",
    "plt.show()\n",
    "plt.imshow(x_test_ch0[0], cmap='gray')\n",
    "plt.show()\n",
    "\n",
    "plt.imshow(x_train_ch1[0], cmap='gray')\n",
    "plt.show()\n",
    "plt.imshow(x_test_ch1[0], cmap='gray')\n",
    "plt.show()"
   ]
  },
  {
   "cell_type": "code",
   "execution_count": null,
   "id": "9c01e2d0",
   "metadata": {
    "vscode": {
     "languageId": "plaintext"
    }
   },
   "outputs": [],
   "source": [
    "x_train_cxr = x_train_cxr.reshape(-1, img_size, img_size)\n",
    "x_train_rgb_cxr = np.stack((x_train_cxr,) * 3, axis=-1)\n",
    "x_train_ch0 = x_train_ch0.reshape(-1, img_size, img_size)\n",
    "x_train_rgb_ch0 = np.stack((x_train_ch0,) * 3, axis=-1)\n",
    "x_train_ch1 = x_train_ch1.reshape(-1, img_size, img_size)\n",
    "x_train_rgb_ch1 = np.stack((x_train_ch1,) * 3, axis=-1)\n",
    "\n",
    "x_test_cxr = x_test_cxr.reshape(-1, img_size, img_size)\n",
    "x_test_rgb_cxr = np.stack((x_test_cxr,) * 3, axis=-1)\n",
    "x_test_ch0 = x_test_ch0.reshape(-1, img_size, img_size)\n",
    "x_test_rgb_ch0 = np.stack((x_test_ch0,) * 3, axis=-1)\n",
    "x_test_ch1 = x_test_ch1.reshape(-1, img_size, img_size)\n",
    "x_test_rgb_ch1 = np.stack((x_test_ch1,) * 3, axis=-1)\n",
    "\n",
    "print(np.shape(x_train_rgb_cxr))\n",
    "print(np.shape(x_train_rgb_ch0))\n",
    "print(np.shape(x_train_rgb_ch1))\n",
    "print(np.shape(y_train))\n",
    "print(np.shape(x_test_rgb_cxr))\n",
    "print(np.shape(x_test_rgb_ch0))\n",
    "print(np.shape(x_test_rgb_ch1))\n",
    "print(np.shape(y_test))"
   ]
  },
  {
   "cell_type": "code",
   "execution_count": null,
   "id": "f406dd7e",
   "metadata": {
    "vscode": {
     "languageId": "plaintext"
    }
   },
   "outputs": [],
   "source": [
    "!rm -rf /kaggle/working/*\n",
    "\n",
    "def save_result(path, cxr, ch0, ch1, name):\n",
    "    cxr = (cxr * 255).astype(np.uint8)\n",
    "    save_path = os.path.join(path, name + '_cxr.png')\n",
    "    cv2.imwrite(save_path, cxr)\n",
    "    \n",
    "    ch0 = (ch0 * 255).astype(np.uint8)\n",
    "    save_path = os.path.join(path, name + '_ch0.png')\n",
    "    cv2.imwrite(save_path, ch0)\n",
    "\n",
    "    ch1 = (ch1 * 255).astype(np.uint8)\n",
    "    save_path = os.path.join(path, name + '_ch1.png')\n",
    "    cv2.imwrite(save_path, ch1)\n",
    "\n",
    "def read_result(path, name):\n",
    "    read_path = os.path.join(path, name + '_cxr.png')\n",
    "    cxr = cv2.imread(read_path)\n",
    "    \n",
    "    read_path = os.path.join(path, name + '_ch0.png')\n",
    "    ch0 = cv2.imread(read_path)\n",
    "    \n",
    "    read_path = os.path.join(path, name + '_ch1.png')\n",
    "    ch1 = cv2.imread(read_path)\n",
    "    \n",
    "    return cxr, ch0, ch1\n",
    "\n",
    "fig, axs = plt.subplots(4, 3, figsize=(6, 9))\n",
    "\n",
    "idx = 0\n",
    "save_result('/kaggle/working/', x_train_cxr[idx], x_train_ch0[idx], x_train_ch1[idx], str(idx))\n",
    "cxr, ch0, ch1 = read_result('/kaggle/working/', str(idx))\n",
    "# axs[1, 0].set_title('X-ray Image')\n",
    "axs[0, 0].imshow(cxr, cmap='gray')\n",
    "axs[0, 0].axis('off')\n",
    "# axs[1, 1].set_title('Segmented X-ray Image')\n",
    "axs[0, 1].imshow(ch0, cmap='gray')\n",
    "axs[0, 1].axis('off')\n",
    "# axs[1, 2].set_title('Segmented X-ray Image with Convex Hull')\n",
    "axs[0, 2].imshow(ch1, cmap='gray')\n",
    "axs[0, 2].axis('off')\n",
    "\n",
    "idx = 1\n",
    "save_result('/kaggle/working/', x_train_cxr[idx], x_train_ch0[idx], x_train_ch1[idx], str(idx))\n",
    "cxr, ch0, ch1 = read_result('/kaggle/working/', str(idx))\n",
    "# axs[1, 0].set_title('X-ray Image')\n",
    "axs[1, 0].imshow(cxr, cmap='gray')\n",
    "axs[1, 0].axis('off')\n",
    "# axs[1, 1].set_title('Segmented X-ray Image')\n",
    "axs[1, 1].imshow(ch0, cmap='gray')\n",
    "axs[1, 1].axis('off')\n",
    "# axs[1, 2].set_title('Segmented X-ray Image with Convex Hull')\n",
    "axs[1, 2].imshow(ch1, cmap='gray')\n",
    "axs[1, 2].axis('off')\n",
    "\n",
    "idx = 2\n",
    "save_result('/kaggle/working/', x_train_cxr[idx], x_train_ch0[idx], x_train_ch1[idx], str(idx))\n",
    "cxr, ch0, ch1 = read_result('/kaggle/working/', str(idx))\n",
    "# axs[1, 0].set_title('X-ray Image')\n",
    "axs[2, 0].imshow(cxr, cmap='gray')\n",
    "axs[2, 0].axis('off')\n",
    "# axs[1, 1].set_title('Segmented X-ray Image')\n",
    "axs[2, 1].imshow(ch0, cmap='gray')\n",
    "axs[2, 1].axis('off')\n",
    "# axs[1, 2].set_title('Segmented X-ray Image with Convex Hull')\n",
    "axs[2, 2].imshow(ch1, cmap='gray')\n",
    "axs[2, 2].axis('off')\n",
    "\n",
    "idx = 3\n",
    "save_result('/kaggle/working/', x_train_cxr[idx], x_train_ch0[idx], x_train_ch1[idx], str(idx))\n",
    "cxr, ch0, ch1 = read_result('/kaggle/working/', str(idx))\n",
    "# axs[1, 0].set_title('X-ray Image')\n",
    "axs[3, 0].imshow(cxr, cmap='gray')\n",
    "axs[3, 0].axis('off')\n",
    "# axs[1, 1].set_title('Segmented X-ray Image')\n",
    "axs[3, 1].imshow(ch0, cmap='gray')\n",
    "axs[3, 1].axis('off')\n",
    "# axs[1, 2].set_title('Segmented X-ray Image with Convex Hull')\n",
    "axs[3, 2].imshow(ch1, cmap='gray')\n",
    "axs[3, 2].axis('off')\n",
    "\n",
    "!rm -rf /kaggle/working/*"
   ]
  },
  {
   "cell_type": "code",
   "execution_count": null,
   "id": "df1507a0",
   "metadata": {
    "vscode": {
     "languageId": "plaintext"
    }
   },
   "outputs": [],
   "source": [
    "idx = 0\n",
    "plt.imshow(x_train_rgb_cxr[idx])\n",
    "plt.show()\n",
    "plt.imshow(x_train_rgb_ch0[idx], cmap='gray')\n",
    "plt.show()\n",
    "plt.imshow(x_train_rgb_ch1[idx], cmap='gray')\n",
    "plt.show()"
   ]
  },
  {
   "cell_type": "code",
   "execution_count": null,
   "id": "197b18d8",
   "metadata": {
    "vscode": {
     "languageId": "plaintext"
    }
   },
   "outputs": [],
   "source": [
    "fe_model = VGG16(weights='imagenet', include_top=False, input_shape=(128, 128, 3))"
   ]
  },
  {
   "cell_type": "code",
   "execution_count": null,
   "id": "d4fa11cc",
   "metadata": {
    "vscode": {
     "languageId": "plaintext"
    }
   },
   "outputs": [],
   "source": [
    "x_train_feature_cxr = fe_model.predict(x_train_rgb_cxr, verbose=True).reshape(5232, -1)\n",
    "x_train_feature_ch0 = fe_model.predict(x_train_rgb_ch0, verbose=True).reshape(5232, -1)\n",
    "x_train_feature_ch1 = fe_model.predict(x_train_rgb_ch1, verbose=True).reshape(5232, -1)\n",
    "\n",
    "x_test_feature_cxr = fe_model.predict(x_test_rgb_cxr, verbose=True).reshape(624, -1)\n",
    "x_test_feature_ch0 = fe_model.predict(x_test_rgb_ch0, verbose=True).reshape(624, -1)\n",
    "x_test_feature_ch1 = fe_model.predict(x_test_rgb_ch1, verbose=True).reshape(624, -1)\n",
    "\n",
    "print(np.shape(x_train_feature_cxr))\n",
    "print(np.shape(x_test_feature_cxr))"
   ]
  },
  {
   "cell_type": "code",
   "execution_count": null,
   "id": "bc938900",
   "metadata": {
    "vscode": {
     "languageId": "plaintext"
    }
   },
   "outputs": [],
   "source": [
    "num_features = np.shape(x_train_feature_cxr)[1]\n",
    "\n",
    "x_train_feature_cxr_df = pd.DataFrame(x_train_feature_cxr, columns=['feature_' + str(i) for i in range(num_features)])\n",
    "x_train_feature_ch0_df = pd.DataFrame(x_train_feature_ch0, columns=['feature_' + str(i) for i in range(num_features)])\n",
    "x_train_feature_ch1_df = pd.DataFrame(x_train_feature_ch1, columns=['feature_' + str(i) for i in range(num_features)])\n",
    "y_train_df = pd.DataFrame(y_train.astype(np.int8), columns=['class'])\n",
    "\n",
    "x_test_feature_cxr_df = pd.DataFrame(x_test_feature_cxr, columns=['feature_' + str(i) for i in range(num_features)])\n",
    "x_test_feature_ch0_df = pd.DataFrame(x_test_feature_ch0, columns=['feature_' + str(i) for i in range(num_features)])\n",
    "x_test_feature_ch1_df = pd.DataFrame(x_test_feature_ch1, columns=['feature_' + str(i) for i in range(num_features)])\n",
    "y_test_df = pd.DataFrame(y_test.astype(np.int8), columns=['class'])"
   ]
  },
  {
   "cell_type": "code",
   "execution_count": null,
   "id": "bbf9fd2d",
   "metadata": {
    "vscode": {
     "languageId": "plaintext"
    }
   },
   "outputs": [],
   "source": [
    "train_cxr_df = pd.concat([x_train_feature_cxr_df, y_train_df], axis=1)\n",
    "train_ch0_df = pd.concat([x_train_feature_ch0_df, y_train_df], axis=1)\n",
    "train_ch1_df = pd.concat([x_train_feature_ch1_df, y_train_df], axis=1)\n",
    "\n",
    "test_cxr_df = pd.concat([x_test_feature_cxr_df, y_test_df], axis=1)\n",
    "test_ch0_df = pd.concat([x_test_feature_ch0_df, y_test_df], axis=1)\n",
    "test_ch1_df = pd.concat([x_test_feature_ch1_df, y_test_df], axis=1)"
   ]
  },
  {
   "cell_type": "code",
   "execution_count": null,
   "id": "0e5ed041",
   "metadata": {
    "vscode": {
     "languageId": "plaintext"
    }
   },
   "outputs": [],
   "source": [
    "save_path = '/kaggle/working/train/'\n",
    "os.makedirs(save_path, exist_ok=True)\n",
    "train_cxr_df.to_csv(os.path.join(save_path, 'cxr.csv'), index=False)\n",
    "train_ch0_df.to_csv(os.path.join(save_path, 'segment.csv'), index=False)\n",
    "train_ch1_df.to_csv(os.path.join(save_path, 'segment_with_convexhull.csv'), index=False)\n",
    "\n",
    "save_path = '/kaggle/working/test/'\n",
    "os.makedirs(save_path, exist_ok=True)\n",
    "test_cxr_df.to_csv(os.path.join(save_path, 'cxr.csv'), index=False)\n",
    "test_ch0_df.to_csv(os.path.join(save_path, 'segment.csv'), index=False)\n",
    "test_ch1_df.to_csv(os.path.join(save_path, 'segment_with_convexhull.csv'), index=False)"
   ]
  }
 ],
 "metadata": {
  "language_info": {
   "name": "python"
  }
 },
 "nbformat": 4,
 "nbformat_minor": 5
}
