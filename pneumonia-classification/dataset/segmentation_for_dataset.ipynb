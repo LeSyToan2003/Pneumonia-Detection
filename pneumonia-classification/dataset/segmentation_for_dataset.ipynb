{
 "cells": [
  {
   "cell_type": "code",
   "execution_count": null,
   "id": "33fb9493",
   "metadata": {
    "vscode": {
     "languageId": "plaintext"
    }
   },
   "outputs": [],
   "source": [
    "import os\n",
    "import cv2\n",
    "import random\n",
    "import numpy as np\n",
    "import matplotlib.pyplot as plt\n",
    "import keras\n",
    "import tensorflow as tf\n",
    "from tqdm import tqdm\n",
    "from keras.src.legacy.preprocessing.image import ImageDataGenerator\n",
    "from keras.saving import load_model"
   ]
  },
  {
   "cell_type": "code",
   "execution_count": null,
   "id": "fff64e38",
   "metadata": {
    "vscode": {
     "languageId": "plaintext"
    }
   },
   "outputs": [],
   "source": [
    "def random_seed(seed):\n",
    "    random.seed(seed)\n",
    "    np.random.seed(seed)\n",
    "    tf.random.set_seed(seed)\n",
    "    keras.utils.set_random_seed(seed)"
   ]
  },
  {
   "cell_type": "code",
   "execution_count": null,
   "id": "1e1a6321",
   "metadata": {
    "vscode": {
     "languageId": "plaintext"
    }
   },
   "outputs": [],
   "source": [
    "img_size = 128"
   ]
  },
  {
   "cell_type": "code",
   "execution_count": null,
   "id": "745d4349",
   "metadata": {
    "vscode": {
     "languageId": "plaintext"
    }
   },
   "outputs": [],
   "source": [
    "def data_loading(path):\n",
    "    cxrs = []\n",
    "    for i in tqdm(range(len(os.listdir(path)))):\n",
    "        image = os.listdir(path)[i]\n",
    "        cxr = cv2.imread(os.path.join(path, image), cv2.IMREAD_GRAYSCALE)\n",
    "        cxr = cv2.resize(cxr, (img_size, img_size))\n",
    "        cxrs.append(cxr)\n",
    "    return np.array(cxrs, dtype=int)"
   ]
  },
  {
   "cell_type": "code",
   "execution_count": null,
   "id": "9394bdd3",
   "metadata": {
    "vscode": {
     "languageId": "plaintext"
    }
   },
   "outputs": [],
   "source": [
    "train_normal = data_loading('/kaggle/input/chest-xray-pneumonia/chest_xray/train/NORMAL')\n",
    "train_pneumonia = data_loading('/kaggle/input/chest-xray-pneumonia/chest_xray/train/PNEUMONIA')\n",
    "\n",
    "print(np.shape(train_normal))\n",
    "print(np.shape(train_pneumonia))"
   ]
  },
  {
   "cell_type": "code",
   "execution_count": null,
   "id": "ea2bb879",
   "metadata": {
    "vscode": {
     "languageId": "plaintext"
    }
   },
   "outputs": [],
   "source": [
    "val_normal = data_loading('/kaggle/input/chest-xray-pneumonia/chest_xray/val/NORMAL')\n",
    "val_pneumonia = data_loading('/kaggle/input/chest-xray-pneumonia/chest_xray/val/PNEUMONIA')\n",
    "\n",
    "train_normal = np.concatenate((train_normal, val_normal), axis=0)\n",
    "train_pneumonia = np.concatenate((train_pneumonia, val_pneumonia), axis=0)\n",
    "\n",
    "print(np.shape(train_normal))\n",
    "print(np.shape(train_pneumonia))"
   ]
  },
  {
   "cell_type": "code",
   "execution_count": null,
   "id": "e35e9453",
   "metadata": {
    "vscode": {
     "languageId": "plaintext"
    }
   },
   "outputs": [],
   "source": [
    "test_normal = data_loading('/kaggle/input/chest-xray-pneumonia/chest_xray/test/NORMAL')\n",
    "test_pneumonia = data_loading('/kaggle/input/chest-xray-pneumonia/chest_xray/test/PNEUMONIA')\n",
    "\n",
    "print(np.shape(test_normal))\n",
    "print(np.shape(test_pneumonia))"
   ]
  },
  {
   "cell_type": "code",
   "execution_count": null,
   "id": "44125c89",
   "metadata": {
    "vscode": {
     "languageId": "plaintext"
    }
   },
   "outputs": [],
   "source": [
    "x_train_cxr = np.concatenate((train_normal, train_pneumonia), axis=0)\n",
    "x_test_cxr = np.concatenate((test_normal, test_pneumonia), axis=0)\n",
    "\n",
    "y_train = np.array([0] * np.shape(train_normal)[0] + [1] * np.shape(train_pneumonia)[0], dtype=int)\n",
    "y_test = np.array([0] * np.shape(test_normal)[0] + [1] * np.shape(test_pneumonia)[0], dtype=int)\n",
    "\n",
    "print(np.shape(x_train_cxr))\n",
    "print(np.shape(y_train))\n",
    "print(np.shape(x_test_cxr))\n",
    "print(np.shape(y_test))"
   ]
  },
  {
   "cell_type": "code",
   "execution_count": null,
   "id": "c4a7b0f5",
   "metadata": {
    "vscode": {
     "languageId": "plaintext"
    }
   },
   "outputs": [],
   "source": [
    "index_list = []\n",
    "for i in range(np.shape(x_train_cxr)[0]):\n",
    "    index_list.append(i)\n",
    "random_seed(42)\n",
    "random.shuffle(index_list)\n",
    "\n",
    "x_train_shuffle = np.zeros(np.shape(x_train_cxr))\n",
    "y_train_shuffle = np.zeros(np.shape(y_train))\n",
    "for i in tqdm(range(len(index_list))):\n",
    "    index = index_list[i]\n",
    "    x_train_shuffle[i] = x_train_cxr[index]\n",
    "    y_train_shuffle[i] = y_train[index]\n",
    "\n",
    "x_train_cxr = x_train_shuffle\n",
    "y_train = y_train_shuffle\n",
    "\n",
    "del x_train_shuffle\n",
    "del y_train_shuffle\n",
    "\n",
    "print(np.shape(x_train_cxr))\n",
    "print(np.shape(y_train))\n",
    "print(np.shape(x_test_cxr))\n",
    "print(np.shape(y_test))"
   ]
  },
  {
   "cell_type": "code",
   "execution_count": null,
   "id": "72627891",
   "metadata": {
    "vscode": {
     "languageId": "plaintext"
    }
   },
   "outputs": [],
   "source": [
    "x_train_cxr = x_train_cxr.reshape(-1, img_size, img_size, 1) / 255.0\n",
    "x_test_cxr = x_test_cxr.reshape(-1, img_size, img_size, 1) / 255.0"
   ]
  },
  {
   "cell_type": "code",
   "execution_count": null,
   "id": "a6ef095d",
   "metadata": {
    "vscode": {
     "languageId": "plaintext"
    }
   },
   "outputs": [],
   "source": [
    "random_seed(42)\n",
    "\n",
    "datagen = ImageDataGenerator(\n",
    "    zoom_range=0.1, \n",
    "    width_shift_range=0.1,\n",
    "    height_shift_range=0.1,\n",
    "    rotation_range=15,\n",
    "    horizontal_flip=False\n",
    ")\n",
    "\n",
    "datagen.fit(x_train_cxr, seed=42)\n",
    "\n",
    "batch_size = np.shape(x_train_cxr)[0]\n",
    "x_train_cxr = next(datagen.flow(x_train_cxr, batch_size=batch_size, shuffle=False, seed=42))"
   ]
  },
  {
   "cell_type": "code",
   "execution_count": null,
   "id": "23b90cc3",
   "metadata": {
    "vscode": {
     "languageId": "plaintext"
    }
   },
   "outputs": [],
   "source": [
    "r2unet_ch0 = load_model('/kaggle/input/unet/keras/default/14/R2Unet.h5')\n",
    "r2unet_ch1 = load_model('/kaggle/input/unet/keras/default/15/R2Unet.h5')\n",
    "\n",
    "x_train_mask_ch0 = r2unet_ch0.predict(x_train_cxr, verbose=True) >= 0.5\n",
    "x_test_mask_ch0 = r2unet_ch0.predict(x_test_cxr, verbose=True) >= 0.5\n",
    "x_train_mask_ch1 = r2unet_ch1.predict(x_train_cxr, verbose=True) >= 0.5\n",
    "x_test_mask_ch1 = r2unet_ch1.predict(x_test_cxr, verbose=True) >= 0.5\n",
    "\n",
    "print(np.shape(x_train_mask_ch0))\n",
    "print(np.shape(x_test_mask_ch0))\n",
    "\n",
    "x_train_segment_ch0 = x_train_cxr * x_train_mask_ch0\n",
    "x_test_segment_ch0 = x_test_cxr * x_test_mask_ch0\n",
    "x_train_segment_ch1 = x_train_cxr * x_train_mask_ch1\n",
    "x_test_segment_ch1 = x_test_cxr * x_test_mask_ch1\n",
    "\n",
    "print(np.shape(x_train_segment_ch0))\n",
    "print(np.shape(x_test_segment_ch0))"
   ]
  },
  {
   "cell_type": "code",
   "execution_count": null,
   "id": "5d17ba9a",
   "metadata": {
    "vscode": {
     "languageId": "plaintext"
    }
   },
   "outputs": [],
   "source": [
    "idx = 0\n",
    "plt.imshow(x_train_cxr[idx], cmap='gray')\n",
    "plt.show()\n",
    "plt.imshow(x_train_mask_ch0[idx], cmap='gray')\n",
    "plt.show()\n",
    "plt.imshow(x_train_segment_ch0[idx], cmap='gray')\n",
    "plt.show()\n",
    "plt.imshow(x_train_mask_ch1[idx], cmap='gray')\n",
    "plt.show()\n",
    "plt.imshow(x_train_segment_ch1[idx], cmap='gray')\n",
    "plt.show()"
   ]
  },
  {
   "cell_type": "code",
   "execution_count": null,
   "id": "10cfc19c",
   "metadata": {
    "vscode": {
     "languageId": "plaintext"
    }
   },
   "outputs": [],
   "source": [
    "save_path = '/kaggle/working/chest-xray/train'\n",
    "os.makedirs(save_path, exist_ok=True)\n",
    "np.save(os.path.join(save_path, 'images'), x_train_cxr)\n",
    "np.save(os.path.join(save_path, 'labels'), y_train)\n",
    "\n",
    "save_path = '/kaggle/working/chest-xray/test'\n",
    "os.makedirs(save_path, exist_ok=True)\n",
    "np.save(os.path.join(save_path, 'images'), x_test_cxr)\n",
    "np.save(os.path.join(save_path, 'labels'), y_test)"
   ]
  },
  {
   "cell_type": "code",
   "execution_count": null,
   "id": "c13ebefd",
   "metadata": {
    "vscode": {
     "languageId": "plaintext"
    }
   },
   "outputs": [],
   "source": [
    "save_path = '/kaggle/working/segment/train'\n",
    "os.makedirs(save_path, exist_ok=True)\n",
    "np.save(os.path.join(save_path, 'images'), x_train_segment_ch0)\n",
    "np.save(os.path.join(save_path, 'labels'), y_train)\n",
    "\n",
    "save_path = '/kaggle/working/segment/test'\n",
    "os.makedirs(save_path, exist_ok=True)\n",
    "np.save(os.path.join(save_path, 'images'), x_test_segment_ch0)\n",
    "np.save(os.path.join(save_path, 'labels'), y_test)"
   ]
  },
  {
   "cell_type": "code",
   "execution_count": null,
   "id": "6fcfc823",
   "metadata": {
    "vscode": {
     "languageId": "plaintext"
    }
   },
   "outputs": [],
   "source": [
    "save_path = '/kaggle/working/segment_with_convexhull/train'\n",
    "os.makedirs(save_path, exist_ok=True)\n",
    "np.save(os.path.join(save_path, 'images'), x_train_segment_ch1)\n",
    "np.save(os.path.join(save_path, 'labels'), y_train)\n",
    "\n",
    "save_path = '/kaggle/working/segment_with_convexhull/test'\n",
    "os.makedirs(save_path, exist_ok=True)\n",
    "np.save(os.path.join(save_path, 'images'), x_test_segment_ch1)\n",
    "np.save(os.path.join(save_path, 'labels'), y_test)"
   ]
  }
 ],
 "metadata": {
  "language_info": {
   "name": "python"
  }
 },
 "nbformat": 4,
 "nbformat_minor": 5
}
